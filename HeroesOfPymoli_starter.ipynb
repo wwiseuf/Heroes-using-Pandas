{
 "cells": [
  {
   "cell_type": "markdown",
   "metadata": {},
   "source": [
    "### Note\n",
    "* Instructions have been included for each segment. You do not have to follow them exactly, but they are included to help you think through the steps."
   ]
  },
  {
   "cell_type": "code",
   "execution_count": 8,
   "metadata": {},
   "outputs": [
    {
     "data": {
      "text/html": [
       "<div>\n",
       "<style scoped>\n",
       "    .dataframe tbody tr th:only-of-type {\n",
       "        vertical-align: middle;\n",
       "    }\n",
       "\n",
       "    .dataframe tbody tr th {\n",
       "        vertical-align: top;\n",
       "    }\n",
       "\n",
       "    .dataframe thead th {\n",
       "        text-align: right;\n",
       "    }\n",
       "</style>\n",
       "<table border=\"1\" class=\"dataframe\">\n",
       "  <thead>\n",
       "    <tr style=\"text-align: right;\">\n",
       "      <th></th>\n",
       "      <th>Purchase ID</th>\n",
       "      <th>SN</th>\n",
       "      <th>Age</th>\n",
       "      <th>Gender</th>\n",
       "      <th>Item ID</th>\n",
       "      <th>Item Name</th>\n",
       "      <th>Price</th>\n",
       "    </tr>\n",
       "  </thead>\n",
       "  <tbody>\n",
       "    <tr>\n",
       "      <th>0</th>\n",
       "      <td>0</td>\n",
       "      <td>Lisim78</td>\n",
       "      <td>20</td>\n",
       "      <td>Male</td>\n",
       "      <td>108</td>\n",
       "      <td>Extraction, Quickblade Of Trembling Hands</td>\n",
       "      <td>3.53</td>\n",
       "    </tr>\n",
       "    <tr>\n",
       "      <th>1</th>\n",
       "      <td>1</td>\n",
       "      <td>Lisovynya38</td>\n",
       "      <td>40</td>\n",
       "      <td>Male</td>\n",
       "      <td>143</td>\n",
       "      <td>Frenzied Scimitar</td>\n",
       "      <td>1.56</td>\n",
       "    </tr>\n",
       "    <tr>\n",
       "      <th>2</th>\n",
       "      <td>2</td>\n",
       "      <td>Ithergue48</td>\n",
       "      <td>24</td>\n",
       "      <td>Male</td>\n",
       "      <td>92</td>\n",
       "      <td>Final Critic</td>\n",
       "      <td>4.88</td>\n",
       "    </tr>\n",
       "    <tr>\n",
       "      <th>3</th>\n",
       "      <td>3</td>\n",
       "      <td>Chamassasya86</td>\n",
       "      <td>24</td>\n",
       "      <td>Male</td>\n",
       "      <td>100</td>\n",
       "      <td>Blindscythe</td>\n",
       "      <td>3.27</td>\n",
       "    </tr>\n",
       "    <tr>\n",
       "      <th>4</th>\n",
       "      <td>4</td>\n",
       "      <td>Iskosia90</td>\n",
       "      <td>23</td>\n",
       "      <td>Male</td>\n",
       "      <td>131</td>\n",
       "      <td>Fury</td>\n",
       "      <td>1.44</td>\n",
       "    </tr>\n",
       "  </tbody>\n",
       "</table>\n",
       "</div>"
      ],
      "text/plain": [
       "   Purchase ID             SN  Age Gender  Item ID  \\\n",
       "0            0        Lisim78   20   Male      108   \n",
       "1            1    Lisovynya38   40   Male      143   \n",
       "2            2     Ithergue48   24   Male       92   \n",
       "3            3  Chamassasya86   24   Male      100   \n",
       "4            4      Iskosia90   23   Male      131   \n",
       "\n",
       "                                   Item Name  Price  \n",
       "0  Extraction, Quickblade Of Trembling Hands   3.53  \n",
       "1                          Frenzied Scimitar   1.56  \n",
       "2                               Final Critic   4.88  \n",
       "3                                Blindscythe   3.27  \n",
       "4                                       Fury   1.44  "
      ]
     },
     "execution_count": 8,
     "metadata": {},
     "output_type": "execute_result"
    }
   ],
   "source": [
    "# Dependencies and Setup\n",
    "import pandas as pd\n",
    "\n",
    "# File to Load (Remember to Change These)\n",
    "csv_path = \"Resources/purchase_data.csv\"\n",
    "\n",
    "# Read Purchasing File and store into Pandas data frame\n",
    "purchase_data_df = pd.read_csv(csv_path, encoding=\"utf-8\")\n",
    "purchase_data_df.head()"
   ]
  },
  {
   "cell_type": "markdown",
   "metadata": {},
   "source": [
    "## Player Count"
   ]
  },
  {
   "cell_type": "markdown",
   "metadata": {},
   "source": [
    "* Display the total number of players\n"
   ]
  },
  {
   "cell_type": "code",
   "execution_count": 67,
   "metadata": {},
   "outputs": [
    {
     "data": {
      "text/html": [
       "<div>\n",
       "<style scoped>\n",
       "    .dataframe tbody tr th:only-of-type {\n",
       "        vertical-align: middle;\n",
       "    }\n",
       "\n",
       "    .dataframe tbody tr th {\n",
       "        vertical-align: top;\n",
       "    }\n",
       "\n",
       "    .dataframe thead th {\n",
       "        text-align: right;\n",
       "    }\n",
       "</style>\n",
       "<table border=\"1\" class=\"dataframe\">\n",
       "  <thead>\n",
       "    <tr style=\"text-align: right;\">\n",
       "      <th></th>\n",
       "      <th>Total Players</th>\n",
       "    </tr>\n",
       "  </thead>\n",
       "  <tbody>\n",
       "    <tr>\n",
       "      <th>0</th>\n",
       "      <td>576</td>\n",
       "    </tr>\n",
       "  </tbody>\n",
       "</table>\n",
       "</div>"
      ],
      "text/plain": [
       "   Total Players\n",
       "0            576"
      ]
     },
     "execution_count": 67,
     "metadata": {},
     "output_type": "execute_result"
    }
   ],
   "source": [
    "#player count\n",
    "player_count = len(purchase_data_df[\"SN\"].unique())\n",
    "\n",
    "\n",
    "# add a frame to display \n",
    "\n",
    "player_count_df = pd.DataFrame({\"Total Players\":[player_count]})\n",
    "player_count_df\n",
    "\n",
    "\n",
    "\n",
    "\n"
   ]
  },
  {
   "cell_type": "markdown",
   "metadata": {},
   "source": [
    "## Purchasing Analysis (Total)"
   ]
  },
  {
   "cell_type": "markdown",
   "metadata": {},
   "source": [
    "* Run basic calculations to obtain number of unique items, average price, etc.\n",
    "\n",
    "\n",
    "* Create a summary data frame to hold the results\n",
    "\n",
    "\n",
    "* Optional: give the displayed data cleaner formatting\n",
    "\n",
    "\n",
    "* Display the summary data frame\n"
   ]
  },
  {
   "cell_type": "code",
   "execution_count": 68,
   "metadata": {},
   "outputs": [
    {
     "data": {
      "text/html": [
       "<div>\n",
       "<style scoped>\n",
       "    .dataframe tbody tr th:only-of-type {\n",
       "        vertical-align: middle;\n",
       "    }\n",
       "\n",
       "    .dataframe tbody tr th {\n",
       "        vertical-align: top;\n",
       "    }\n",
       "\n",
       "    .dataframe thead th {\n",
       "        text-align: right;\n",
       "    }\n",
       "</style>\n",
       "<table border=\"1\" class=\"dataframe\">\n",
       "  <thead>\n",
       "    <tr style=\"text-align: right;\">\n",
       "      <th></th>\n",
       "      <th>Number of Unique Items</th>\n",
       "      <th>Average Price</th>\n",
       "      <th>Number of Purchases</th>\n",
       "      <th>Total Revenue</th>\n",
       "    </tr>\n",
       "  </thead>\n",
       "  <tbody>\n",
       "    <tr>\n",
       "      <th>0</th>\n",
       "      <td>179</td>\n",
       "      <td>$3.05</td>\n",
       "      <td>780</td>\n",
       "      <td>$2379.77</td>\n",
       "    </tr>\n",
       "  </tbody>\n",
       "</table>\n",
       "</div>"
      ],
      "text/plain": [
       "   Number of Unique Items Average Price  Number of Purchases Total Revenue\n",
       "0                     179         $3.05                  780      $2379.77"
      ]
     },
     "execution_count": 68,
     "metadata": {},
     "output_type": "execute_result"
    }
   ],
   "source": [
    "# purchasing unique items\n",
    "Item_id = len(purchase_data_df[\"Item ID\"].unique())\n",
    "\n",
    "# average price\n",
    "a_price = purchase_data_df[\"Price\"].mean()\n",
    "\n",
    "# number of purchases\n",
    "purchase = purchase_data_df[\"Purchase ID\"].count()\n",
    "\n",
    "# total revenue\n",
    "Revenue = purchase_data_df[\"Price\"].sum()\n",
    "\n",
    "# Create Data Frame\n",
    "player_count_df = pd.DataFrame({\"Number of Unique Items\": [Item_id],\n",
    "                                \"Average Price\": [a_price],\n",
    "                                \"Number of Purchases\": [purchase],\n",
    "                                \"Total Revenue\": [Revenue]\n",
    "                               })\n",
    "\n",
    "\n",
    "\n",
    "# changed formating \n",
    "\n",
    "player_count_df[\"Average Price\"] = player_count_df[\"Average Price\"].map(\"${:.2f}\".format)\n",
    "player_count_df[\"Total Revenue\"] = player_count_df[\"Total Revenue\"].map(\"${:.2f}\".format)\n",
    "player_count_df\n"
   ]
  },
  {
   "cell_type": "markdown",
   "metadata": {},
   "source": [
    "## Gender Demographics"
   ]
  },
  {
   "cell_type": "markdown",
   "metadata": {},
   "source": [
    "* Percentage and Count of Male Players\n",
    "\n",
    "\n",
    "* Percentage and Count of Female Players\n",
    "\n",
    "\n",
    "* Percentage and Count of Other / Non-Disclosed\n",
    "\n",
    "\n"
   ]
  },
  {
   "cell_type": "code",
   "execution_count": 69,
   "metadata": {
    "scrolled": true
   },
   "outputs": [
    {
     "data": {
      "text/html": [
       "<style  type=\"text/css\" >\n",
       "</style><table id=\"T_fa112c89_5de2_11eb_a3e9_e0d55e03eb62\" ><thead>    <tr>        <th class=\"blank level0\" ></th>        <th class=\"col_heading level0 col0\" >Total_Count</th>        <th class=\"col_heading level0 col1\" >Percentage of players</th>    </tr></thead><tbody>\n",
       "                <tr>\n",
       "                        <th id=\"T_fa112c89_5de2_11eb_a3e9_e0d55e03eb62level0_row0\" class=\"row_heading level0 row0\" >Male</th>\n",
       "                        <td id=\"T_fa112c89_5de2_11eb_a3e9_e0d55e03eb62row0_col0\" class=\"data row0 col0\" >652</td>\n",
       "                        <td id=\"T_fa112c89_5de2_11eb_a3e9_e0d55e03eb62row0_col1\" class=\"data row0 col1\" >83.59%</td>\n",
       "            </tr>\n",
       "            <tr>\n",
       "                        <th id=\"T_fa112c89_5de2_11eb_a3e9_e0d55e03eb62level0_row1\" class=\"row_heading level0 row1\" >Female</th>\n",
       "                        <td id=\"T_fa112c89_5de2_11eb_a3e9_e0d55e03eb62row1_col0\" class=\"data row1 col0\" >113</td>\n",
       "                        <td id=\"T_fa112c89_5de2_11eb_a3e9_e0d55e03eb62row1_col1\" class=\"data row1 col1\" >14.49%</td>\n",
       "            </tr>\n",
       "            <tr>\n",
       "                        <th id=\"T_fa112c89_5de2_11eb_a3e9_e0d55e03eb62level0_row2\" class=\"row_heading level0 row2\" >Other / Non-Disclosed</th>\n",
       "                        <td id=\"T_fa112c89_5de2_11eb_a3e9_e0d55e03eb62row2_col0\" class=\"data row2 col0\" >15</td>\n",
       "                        <td id=\"T_fa112c89_5de2_11eb_a3e9_e0d55e03eb62row2_col1\" class=\"data row2 col1\" >1.92%</td>\n",
       "            </tr>\n",
       "    </tbody></table>"
      ],
      "text/plain": [
       "<pandas.io.formats.style.Styler at 0x1ca96b328b0>"
      ]
     },
     "execution_count": 69,
     "metadata": {},
     "output_type": "execute_result"
    }
   ],
   "source": [
    "# Gender Counts\n",
    "Gender_ID = purchase_data_df[\"Gender\"].value_counts()\n",
    "\n",
    "# Creat Data Frame\n",
    "Gender_ID_df = pd.DataFrame(Gender_ID)\n",
    "\n",
    "# Calculate percentage of players gender\n",
    "Gender_Percentage = (purchase_data_df[\"Gender\"].value_counts() / (purchase_data_df[\"Gender\"].count())) * 100\n",
    "\n",
    "Gender_ID_df[\"Percentage of players\"] = Gender_Percentage\n",
    "\n",
    "# Create Data Frame\n",
    "Gender_Pop_Tally_df = pd.DataFrame(Gender_ID_df)\n",
    "Gender_Pop_Tally_df\n",
    "\n",
    "New_Gender_ID_df = Gender_Pop_Tally_df.rename(columns={\n",
    "    \"Gender\": \"Total_Count\",\n",
    "})\n",
    "\n",
    "\n",
    "# Clean up styling \n",
    "New_Gender_ID_df.style.format({ \"Percentage of players\":\"{:,.2f}%\"})\n",
    "\n",
    "\n",
    "\n",
    "\n"
   ]
  },
  {
   "cell_type": "markdown",
   "metadata": {},
   "source": [
    "\n",
    "## Purchasing Analysis (Gender)"
   ]
  },
  {
   "cell_type": "markdown",
   "metadata": {},
   "source": [
    "* Run basic calculations to obtain purchase count, avg. purchase price, avg. purchase total per person etc. by gender\n",
    "\n",
    "\n",
    "\n",
    "\n",
    "* Create a summary data frame to hold the results\n",
    "\n",
    "\n",
    "* Optional: give the displayed data cleaner formatting\n",
    "\n",
    "\n",
    "* Display the summary data frame"
   ]
  },
  {
   "cell_type": "code",
   "execution_count": 70,
   "metadata": {},
   "outputs": [
    {
     "data": {
      "text/html": [
       "<style  type=\"text/css\" >\n",
       "</style><table id=\"T_faf15712_5de2_11eb_a44f_e0d55e03eb62\" ><thead>    <tr>        <th class=\"blank level0\" ></th>        <th class=\"col_heading level0 col0\" >Purchase Count</th>        <th class=\"col_heading level0 col1\" >Average Purchase Price</th>        <th class=\"col_heading level0 col2\" >Total Purchase Amount</th>        <th class=\"col_heading level0 col3\" >Normalized Totals</th>    </tr>    <tr>        <th class=\"index_name level0\" >Gender</th>        <th class=\"blank\" ></th>        <th class=\"blank\" ></th>        <th class=\"blank\" ></th>        <th class=\"blank\" ></th>    </tr></thead><tbody>\n",
       "                <tr>\n",
       "                        <th id=\"T_faf15712_5de2_11eb_a44f_e0d55e03eb62level0_row0\" class=\"row_heading level0 row0\" >Female</th>\n",
       "                        <td id=\"T_faf15712_5de2_11eb_a44f_e0d55e03eb62row0_col0\" class=\"data row0 col0\" >113</td>\n",
       "                        <td id=\"T_faf15712_5de2_11eb_a44f_e0d55e03eb62row0_col1\" class=\"data row0 col1\" >$3.20</td>\n",
       "                        <td id=\"T_faf15712_5de2_11eb_a44f_e0d55e03eb62row0_col2\" class=\"data row0 col2\" >$361.94</td>\n",
       "                        <td id=\"T_faf15712_5de2_11eb_a44f_e0d55e03eb62row0_col3\" class=\"data row0 col3\" >$4.47</td>\n",
       "            </tr>\n",
       "            <tr>\n",
       "                        <th id=\"T_faf15712_5de2_11eb_a44f_e0d55e03eb62level0_row1\" class=\"row_heading level0 row1\" >Male</th>\n",
       "                        <td id=\"T_faf15712_5de2_11eb_a44f_e0d55e03eb62row1_col0\" class=\"data row1 col0\" >652</td>\n",
       "                        <td id=\"T_faf15712_5de2_11eb_a44f_e0d55e03eb62row1_col1\" class=\"data row1 col1\" >$3.02</td>\n",
       "                        <td id=\"T_faf15712_5de2_11eb_a44f_e0d55e03eb62row1_col2\" class=\"data row1 col2\" >$1,967.64</td>\n",
       "                        <td id=\"T_faf15712_5de2_11eb_a44f_e0d55e03eb62row1_col3\" class=\"data row1 col3\" >$4.07</td>\n",
       "            </tr>\n",
       "            <tr>\n",
       "                        <th id=\"T_faf15712_5de2_11eb_a44f_e0d55e03eb62level0_row2\" class=\"row_heading level0 row2\" >Other / Non-Disclosed</th>\n",
       "                        <td id=\"T_faf15712_5de2_11eb_a44f_e0d55e03eb62row2_col0\" class=\"data row2 col0\" >15</td>\n",
       "                        <td id=\"T_faf15712_5de2_11eb_a44f_e0d55e03eb62row2_col1\" class=\"data row2 col1\" >$3.35</td>\n",
       "                        <td id=\"T_faf15712_5de2_11eb_a44f_e0d55e03eb62row2_col2\" class=\"data row2 col2\" >$50.19</td>\n",
       "                        <td id=\"T_faf15712_5de2_11eb_a44f_e0d55e03eb62row2_col3\" class=\"data row2 col3\" >$4.56</td>\n",
       "            </tr>\n",
       "    </tbody></table>"
      ],
      "text/plain": [
       "<pandas.io.formats.style.Styler at 0x1ca957909a0>"
      ]
     },
     "execution_count": 70,
     "metadata": {},
     "output_type": "execute_result"
    }
   ],
   "source": [
    "# group by gender\n",
    "Gender_Purchase = purchase_data_df.groupby([\"Gender\"])\n",
    "\n",
    "# Purchase count\n",
    "Gender_Ptotal = Gender_Purchase[\"Price\"].count()\n",
    "\n",
    "# Average Purchase price for gender\n",
    "Gender_Paverage = Gender_Purchase[\"Price\"].mean()\n",
    "\n",
    "# total Purchase price by gender\n",
    "Gender_Pamount = Gender_Purchase[\"Price\"].sum()\n",
    "\n",
    "# drop dupilcates SN\n",
    "Duplicates = purchase_data_df.drop_duplicates(subset =\"SN\", keep = \"first\")\n",
    "\n",
    "grouped_dupli = Duplicates.groupby([\"Gender\"])\n",
    "\n",
    "# Normalized totals\n",
    "PurNormalized = (Gender_Purchase[\"Price\"].sum() / grouped_dupli[\"SN\"].count())\n",
    "\n",
    "\n",
    "# Data Frame \n",
    "New_Gender_IDstats = pd.DataFrame({\"Purchase Count\": Gender_Ptotal,\n",
    "                                   \"Average Purchase Price\": Gender_Paverage,\n",
    "                                   \"Total Purchase Amount\": Gender_Pamount,\n",
    "                                   \"Normalized Totals\" : PurNormalized\n",
    "                                 \n",
    "                                  })\n",
    "\n",
    "\n",
    "# Clean up styling \n",
    "New_Gender_IDstats.style.format({ \"Average Purchase Value\":\"${:,.2f}\",\n",
    "                                  \"Average Purchase Price\":\"${:,.2f}\",\n",
    "                                  \"Total Purchase Amount\":\"${:,.2f}\",\n",
    "                                  \"Normalized Totals\":\"${:,.2f}\"\n",
    "                                 \n",
    "                                })\n",
    "\n"
   ]
  },
  {
   "cell_type": "markdown",
   "metadata": {},
   "source": [
    "## Age Demographics"
   ]
  },
  {
   "cell_type": "markdown",
   "metadata": {},
   "source": [
    "* Establish bins for ages\n",
    "\n",
    "\n",
    "* Categorize the existing players using the age bins. Hint: use pd.cut()\n",
    "\n",
    "\n",
    "* Calculate the numbers and percentages by age group\n",
    "\n",
    "\n",
    "* Create a summary data frame to hold the results\n",
    "\n",
    "\n",
    "* Optional: round the percentage column to two decimal points\n",
    "\n",
    "\n",
    "* Display Age Demographics Table\n"
   ]
  },
  {
   "cell_type": "code",
   "execution_count": 71,
   "metadata": {},
   "outputs": [
    {
     "data": {
      "text/html": [
       "<style  type=\"text/css\" >\n",
       "</style><table id=\"T_fbf9a27b_5de2_11eb_9819_e0d55e03eb62\" ><thead>    <tr>        <th class=\"blank level0\" ></th>        <th class=\"col_heading level0 col0\" >Total Count</th>        <th class=\"col_heading level0 col1\" >Percentage of Players</th>    </tr></thead><tbody>\n",
       "                <tr>\n",
       "                        <th id=\"T_fbf9a27b_5de2_11eb_9819_e0d55e03eb62level0_row0\" class=\"row_heading level0 row0\" ><10</th>\n",
       "                        <td id=\"T_fbf9a27b_5de2_11eb_9819_e0d55e03eb62row0_col0\" class=\"data row0 col0\" >17</td>\n",
       "                        <td id=\"T_fbf9a27b_5de2_11eb_9819_e0d55e03eb62row0_col1\" class=\"data row0 col1\" >2.95%</td>\n",
       "            </tr>\n",
       "            <tr>\n",
       "                        <th id=\"T_fbf9a27b_5de2_11eb_9819_e0d55e03eb62level0_row1\" class=\"row_heading level0 row1\" >10-14</th>\n",
       "                        <td id=\"T_fbf9a27b_5de2_11eb_9819_e0d55e03eb62row1_col0\" class=\"data row1 col0\" >22</td>\n",
       "                        <td id=\"T_fbf9a27b_5de2_11eb_9819_e0d55e03eb62row1_col1\" class=\"data row1 col1\" >3.82%</td>\n",
       "            </tr>\n",
       "            <tr>\n",
       "                        <th id=\"T_fbf9a27b_5de2_11eb_9819_e0d55e03eb62level0_row2\" class=\"row_heading level0 row2\" >15-19</th>\n",
       "                        <td id=\"T_fbf9a27b_5de2_11eb_9819_e0d55e03eb62row2_col0\" class=\"data row2 col0\" >107</td>\n",
       "                        <td id=\"T_fbf9a27b_5de2_11eb_9819_e0d55e03eb62row2_col1\" class=\"data row2 col1\" >18.58%</td>\n",
       "            </tr>\n",
       "            <tr>\n",
       "                        <th id=\"T_fbf9a27b_5de2_11eb_9819_e0d55e03eb62level0_row3\" class=\"row_heading level0 row3\" >20-24</th>\n",
       "                        <td id=\"T_fbf9a27b_5de2_11eb_9819_e0d55e03eb62row3_col0\" class=\"data row3 col0\" >258</td>\n",
       "                        <td id=\"T_fbf9a27b_5de2_11eb_9819_e0d55e03eb62row3_col1\" class=\"data row3 col1\" >44.79%</td>\n",
       "            </tr>\n",
       "            <tr>\n",
       "                        <th id=\"T_fbf9a27b_5de2_11eb_9819_e0d55e03eb62level0_row4\" class=\"row_heading level0 row4\" >25-29</th>\n",
       "                        <td id=\"T_fbf9a27b_5de2_11eb_9819_e0d55e03eb62row4_col0\" class=\"data row4 col0\" >77</td>\n",
       "                        <td id=\"T_fbf9a27b_5de2_11eb_9819_e0d55e03eb62row4_col1\" class=\"data row4 col1\" >13.37%</td>\n",
       "            </tr>\n",
       "            <tr>\n",
       "                        <th id=\"T_fbf9a27b_5de2_11eb_9819_e0d55e03eb62level0_row5\" class=\"row_heading level0 row5\" >30-34</th>\n",
       "                        <td id=\"T_fbf9a27b_5de2_11eb_9819_e0d55e03eb62row5_col0\" class=\"data row5 col0\" >52</td>\n",
       "                        <td id=\"T_fbf9a27b_5de2_11eb_9819_e0d55e03eb62row5_col1\" class=\"data row5 col1\" >9.03%</td>\n",
       "            </tr>\n",
       "            <tr>\n",
       "                        <th id=\"T_fbf9a27b_5de2_11eb_9819_e0d55e03eb62level0_row6\" class=\"row_heading level0 row6\" >35-39</th>\n",
       "                        <td id=\"T_fbf9a27b_5de2_11eb_9819_e0d55e03eb62row6_col0\" class=\"data row6 col0\" >31</td>\n",
       "                        <td id=\"T_fbf9a27b_5de2_11eb_9819_e0d55e03eb62row6_col1\" class=\"data row6 col1\" >5.38%</td>\n",
       "            </tr>\n",
       "            <tr>\n",
       "                        <th id=\"T_fbf9a27b_5de2_11eb_9819_e0d55e03eb62level0_row7\" class=\"row_heading level0 row7\" >40+</th>\n",
       "                        <td id=\"T_fbf9a27b_5de2_11eb_9819_e0d55e03eb62row7_col0\" class=\"data row7 col0\" >12</td>\n",
       "                        <td id=\"T_fbf9a27b_5de2_11eb_9819_e0d55e03eb62row7_col1\" class=\"data row7 col1\" >2.08%</td>\n",
       "            </tr>\n",
       "    </tbody></table>"
      ],
      "text/plain": [
       "<pandas.io.formats.style.Styler at 0x1ca96b439a0>"
      ]
     },
     "execution_count": 71,
     "metadata": {},
     "output_type": "execute_result"
    }
   ],
   "source": [
    "# Create bins for age groups\n",
    "\n",
    "bins = [0, 9.9, 14.9, 19.9, 24.9, 29.9, 34.9, 39.9, 100]\n",
    "group_name = [\"<10\", \"10-14\", \"15-19\", \"20-24\", \"25-29\", \"30-34\", \"35-39\", \"40+\"]\n",
    "\n",
    "\n",
    "# Cut Data with bin\n",
    "purchase_data_df[\"Age Group\"] = pd.cut(purchase_data_df[\"Age\"],\n",
    "                                        bins, labels = group_name)\n",
    "\n",
    "# group by age\n",
    "age_group = purchase_data_df.groupby(\"Age Group\")\n",
    "\n",
    "# create count by age group\n",
    "total_Acount = age_group[\"SN\"].nunique()\n",
    "\n",
    "# Percentages for age groups\n",
    "agepercentage = (total_Acount / player_count) * 100\n",
    "\n",
    "# Data Frame\n",
    "Age_ID = pd.DataFrame({\"Total Count\" : total_Acount, \"Percentage of Players\" : agepercentage})\n",
    "\n",
    "Age_ID.index.name = None\n",
    "\n",
    "# Clean up styling \n",
    "Age_ID.style.format({\"Percentage of Players\" : \"{:,.2f}%\"})\n",
    "\n"
   ]
  },
  {
   "cell_type": "markdown",
   "metadata": {},
   "source": [
    "## Purchasing Analysis (Age)"
   ]
  },
  {
   "cell_type": "markdown",
   "metadata": {},
   "source": [
    "* Bin the purchase_data data frame by age\n",
    "\n",
    "\n",
    "* Run basic calculations to obtain purchase count, avg. purchase price, avg. purchase total per person etc. in the table below\n",
    "\n",
    "\n",
    "* Create a summary data frame to hold the results\n",
    "\n",
    "\n",
    "* Optional: give the displayed data cleaner formatting\n",
    "\n",
    "\n",
    "* Display the summary data frame"
   ]
  },
  {
   "cell_type": "code",
   "execution_count": 72,
   "metadata": {},
   "outputs": [
    {
     "data": {
      "text/html": [
       "<style  type=\"text/css\" >\n",
       "</style><table id=\"T_fd21d866_5de2_11eb_9715_e0d55e03eb62\" ><thead>    <tr>        <th class=\"blank level0\" ></th>        <th class=\"col_heading level0 col0\" >Purchase count</th>        <th class=\"col_heading level0 col1\" >Average Purchase Price</th>        <th class=\"col_heading level0 col2\" >Total Purchase Value</th>        <th class=\"col_heading level0 col3\" >Average Purchase Total Per Person</th>    </tr></thead><tbody>\n",
       "                <tr>\n",
       "                        <th id=\"T_fd21d866_5de2_11eb_9715_e0d55e03eb62level0_row0\" class=\"row_heading level0 row0\" ><10</th>\n",
       "                        <td id=\"T_fd21d866_5de2_11eb_9715_e0d55e03eb62row0_col0\" class=\"data row0 col0\" >23</td>\n",
       "                        <td id=\"T_fd21d866_5de2_11eb_9715_e0d55e03eb62row0_col1\" class=\"data row0 col1\" >$3.35</td>\n",
       "                        <td id=\"T_fd21d866_5de2_11eb_9715_e0d55e03eb62row0_col2\" class=\"data row0 col2\" >$77.13</td>\n",
       "                        <td id=\"T_fd21d866_5de2_11eb_9715_e0d55e03eb62row0_col3\" class=\"data row0 col3\" >$4.54</td>\n",
       "            </tr>\n",
       "            <tr>\n",
       "                        <th id=\"T_fd21d866_5de2_11eb_9715_e0d55e03eb62level0_row1\" class=\"row_heading level0 row1\" >10-14</th>\n",
       "                        <td id=\"T_fd21d866_5de2_11eb_9715_e0d55e03eb62row1_col0\" class=\"data row1 col0\" >28</td>\n",
       "                        <td id=\"T_fd21d866_5de2_11eb_9715_e0d55e03eb62row1_col1\" class=\"data row1 col1\" >$2.96</td>\n",
       "                        <td id=\"T_fd21d866_5de2_11eb_9715_e0d55e03eb62row1_col2\" class=\"data row1 col2\" >$82.78</td>\n",
       "                        <td id=\"T_fd21d866_5de2_11eb_9715_e0d55e03eb62row1_col3\" class=\"data row1 col3\" >$3.76</td>\n",
       "            </tr>\n",
       "            <tr>\n",
       "                        <th id=\"T_fd21d866_5de2_11eb_9715_e0d55e03eb62level0_row2\" class=\"row_heading level0 row2\" >15-19</th>\n",
       "                        <td id=\"T_fd21d866_5de2_11eb_9715_e0d55e03eb62row2_col0\" class=\"data row2 col0\" >136</td>\n",
       "                        <td id=\"T_fd21d866_5de2_11eb_9715_e0d55e03eb62row2_col1\" class=\"data row2 col1\" >$3.04</td>\n",
       "                        <td id=\"T_fd21d866_5de2_11eb_9715_e0d55e03eb62row2_col2\" class=\"data row2 col2\" >$412.89</td>\n",
       "                        <td id=\"T_fd21d866_5de2_11eb_9715_e0d55e03eb62row2_col3\" class=\"data row2 col3\" >$3.86</td>\n",
       "            </tr>\n",
       "            <tr>\n",
       "                        <th id=\"T_fd21d866_5de2_11eb_9715_e0d55e03eb62level0_row3\" class=\"row_heading level0 row3\" >20-24</th>\n",
       "                        <td id=\"T_fd21d866_5de2_11eb_9715_e0d55e03eb62row3_col0\" class=\"data row3 col0\" >365</td>\n",
       "                        <td id=\"T_fd21d866_5de2_11eb_9715_e0d55e03eb62row3_col1\" class=\"data row3 col1\" >$3.05</td>\n",
       "                        <td id=\"T_fd21d866_5de2_11eb_9715_e0d55e03eb62row3_col2\" class=\"data row3 col2\" >$1,114.06</td>\n",
       "                        <td id=\"T_fd21d866_5de2_11eb_9715_e0d55e03eb62row3_col3\" class=\"data row3 col3\" >$4.32</td>\n",
       "            </tr>\n",
       "            <tr>\n",
       "                        <th id=\"T_fd21d866_5de2_11eb_9715_e0d55e03eb62level0_row4\" class=\"row_heading level0 row4\" >25-29</th>\n",
       "                        <td id=\"T_fd21d866_5de2_11eb_9715_e0d55e03eb62row4_col0\" class=\"data row4 col0\" >101</td>\n",
       "                        <td id=\"T_fd21d866_5de2_11eb_9715_e0d55e03eb62row4_col1\" class=\"data row4 col1\" >$2.90</td>\n",
       "                        <td id=\"T_fd21d866_5de2_11eb_9715_e0d55e03eb62row4_col2\" class=\"data row4 col2\" >$293.00</td>\n",
       "                        <td id=\"T_fd21d866_5de2_11eb_9715_e0d55e03eb62row4_col3\" class=\"data row4 col3\" >$3.81</td>\n",
       "            </tr>\n",
       "            <tr>\n",
       "                        <th id=\"T_fd21d866_5de2_11eb_9715_e0d55e03eb62level0_row5\" class=\"row_heading level0 row5\" >30-34</th>\n",
       "                        <td id=\"T_fd21d866_5de2_11eb_9715_e0d55e03eb62row5_col0\" class=\"data row5 col0\" >73</td>\n",
       "                        <td id=\"T_fd21d866_5de2_11eb_9715_e0d55e03eb62row5_col1\" class=\"data row5 col1\" >$2.93</td>\n",
       "                        <td id=\"T_fd21d866_5de2_11eb_9715_e0d55e03eb62row5_col2\" class=\"data row5 col2\" >$214.00</td>\n",
       "                        <td id=\"T_fd21d866_5de2_11eb_9715_e0d55e03eb62row5_col3\" class=\"data row5 col3\" >$4.12</td>\n",
       "            </tr>\n",
       "            <tr>\n",
       "                        <th id=\"T_fd21d866_5de2_11eb_9715_e0d55e03eb62level0_row6\" class=\"row_heading level0 row6\" >35-39</th>\n",
       "                        <td id=\"T_fd21d866_5de2_11eb_9715_e0d55e03eb62row6_col0\" class=\"data row6 col0\" >41</td>\n",
       "                        <td id=\"T_fd21d866_5de2_11eb_9715_e0d55e03eb62row6_col1\" class=\"data row6 col1\" >$3.60</td>\n",
       "                        <td id=\"T_fd21d866_5de2_11eb_9715_e0d55e03eb62row6_col2\" class=\"data row6 col2\" >$147.67</td>\n",
       "                        <td id=\"T_fd21d866_5de2_11eb_9715_e0d55e03eb62row6_col3\" class=\"data row6 col3\" >$4.76</td>\n",
       "            </tr>\n",
       "            <tr>\n",
       "                        <th id=\"T_fd21d866_5de2_11eb_9715_e0d55e03eb62level0_row7\" class=\"row_heading level0 row7\" >40+</th>\n",
       "                        <td id=\"T_fd21d866_5de2_11eb_9715_e0d55e03eb62row7_col0\" class=\"data row7 col0\" >13</td>\n",
       "                        <td id=\"T_fd21d866_5de2_11eb_9715_e0d55e03eb62row7_col1\" class=\"data row7 col1\" >$2.94</td>\n",
       "                        <td id=\"T_fd21d866_5de2_11eb_9715_e0d55e03eb62row7_col2\" class=\"data row7 col2\" >$38.24</td>\n",
       "                        <td id=\"T_fd21d866_5de2_11eb_9715_e0d55e03eb62row7_col3\" class=\"data row7 col3\" >$3.19</td>\n",
       "            </tr>\n",
       "    </tbody></table>"
      ],
      "text/plain": [
       "<pandas.io.formats.style.Styler at 0x1ca968849d0>"
      ]
     },
     "execution_count": 72,
     "metadata": {},
     "output_type": "execute_result"
    }
   ],
   "source": [
    "# purchasing count by age\n",
    "total_agecount = age_group[\"Age Group\"].count()\n",
    "\n",
    "# Group by for age group \n",
    "Age_group = purchase_data_df.groupby([\"Age Group\"])\n",
    "\n",
    "# Average price per age group\n",
    "avg_age_price = Age_group[\"Price\"].mean()\n",
    "\n",
    "# Total purchase per age group \n",
    "Tpurchase_value = Age_group[\"Price\"].sum()\n",
    "\n",
    "# Normalized Totals\n",
    "Apurch_pers_perAge = Tpurchase_value / total_Acount\n",
    "\n",
    "# Create DataFrame\n",
    "PA_ageData_df = pd.DataFrame({\"Purchase count\" : total_agecount,\n",
    "                              \"Average Purchase Price\" : avg_age_price,\n",
    "                              \"Total Purchase Value\" : Tpurchase_value,\n",
    "                              \"Average Purchase Total Per Person\" : Apurch_pers_perAge\n",
    "                             })\n",
    "\n",
    "# Clean up style\n",
    "PA_ageData_df.style.format({\"Av Purchase Price\" : \"${:,.2f}\",\n",
    "                            \"Total Purchase Value\" : \"${:,.2f}\",\n",
    "                            \"Average Purchase Price\" : \"${:,.2f}\",\n",
    "                            \"Average Purchase Total Per Person\" : \"${:,.2f}\"\n",
    "                           })\n",
    "\n"
   ]
  },
  {
   "cell_type": "markdown",
   "metadata": {},
   "source": [
    "## Top Spenders"
   ]
  },
  {
   "cell_type": "markdown",
   "metadata": {},
   "source": [
    "* Run basic calculations to obtain the results in the table below\n",
    "\n",
    "\n",
    "* Create a summary data frame to hold the results\n",
    "\n",
    "\n",
    "* Sort the total purchase value column in descending order\n",
    "\n",
    "\n",
    "* Optional: give the displayed data cleaner formatting\n",
    "\n",
    "\n",
    "* Display a preview of the summary data frame\n",
    "\n"
   ]
  },
  {
   "cell_type": "code",
   "execution_count": 73,
   "metadata": {},
   "outputs": [
    {
     "data": {
      "text/html": [
       "<style  type=\"text/css\" >\n",
       "</style><table id=\"T_fdff8c04_5de2_11eb_a98a_e0d55e03eb62\" ><thead>    <tr>        <th class=\"blank level0\" ></th>        <th class=\"col_heading level0 col0\" >Purchase Count</th>        <th class=\"col_heading level0 col1\" >Average Purchase Price</th>        <th class=\"col_heading level0 col2\" >Total Purchase Value</th>    </tr>    <tr>        <th class=\"index_name level0\" >SN</th>        <th class=\"blank\" ></th>        <th class=\"blank\" ></th>        <th class=\"blank\" ></th>    </tr></thead><tbody>\n",
       "                <tr>\n",
       "                        <th id=\"T_fdff8c04_5de2_11eb_a98a_e0d55e03eb62level0_row0\" class=\"row_heading level0 row0\" >Lisosia93</th>\n",
       "                        <td id=\"T_fdff8c04_5de2_11eb_a98a_e0d55e03eb62row0_col0\" class=\"data row0 col0\" >5</td>\n",
       "                        <td id=\"T_fdff8c04_5de2_11eb_a98a_e0d55e03eb62row0_col1\" class=\"data row0 col1\" >$3.79</td>\n",
       "                        <td id=\"T_fdff8c04_5de2_11eb_a98a_e0d55e03eb62row0_col2\" class=\"data row0 col2\" >$18.96</td>\n",
       "            </tr>\n",
       "            <tr>\n",
       "                        <th id=\"T_fdff8c04_5de2_11eb_a98a_e0d55e03eb62level0_row1\" class=\"row_heading level0 row1\" >Idastidru52</th>\n",
       "                        <td id=\"T_fdff8c04_5de2_11eb_a98a_e0d55e03eb62row1_col0\" class=\"data row1 col0\" >4</td>\n",
       "                        <td id=\"T_fdff8c04_5de2_11eb_a98a_e0d55e03eb62row1_col1\" class=\"data row1 col1\" >$3.86</td>\n",
       "                        <td id=\"T_fdff8c04_5de2_11eb_a98a_e0d55e03eb62row1_col2\" class=\"data row1 col2\" >$15.45</td>\n",
       "            </tr>\n",
       "            <tr>\n",
       "                        <th id=\"T_fdff8c04_5de2_11eb_a98a_e0d55e03eb62level0_row2\" class=\"row_heading level0 row2\" >Chamjask73</th>\n",
       "                        <td id=\"T_fdff8c04_5de2_11eb_a98a_e0d55e03eb62row2_col0\" class=\"data row2 col0\" >3</td>\n",
       "                        <td id=\"T_fdff8c04_5de2_11eb_a98a_e0d55e03eb62row2_col1\" class=\"data row2 col1\" >$4.61</td>\n",
       "                        <td id=\"T_fdff8c04_5de2_11eb_a98a_e0d55e03eb62row2_col2\" class=\"data row2 col2\" >$13.83</td>\n",
       "            </tr>\n",
       "            <tr>\n",
       "                        <th id=\"T_fdff8c04_5de2_11eb_a98a_e0d55e03eb62level0_row3\" class=\"row_heading level0 row3\" >Iral74</th>\n",
       "                        <td id=\"T_fdff8c04_5de2_11eb_a98a_e0d55e03eb62row3_col0\" class=\"data row3 col0\" >4</td>\n",
       "                        <td id=\"T_fdff8c04_5de2_11eb_a98a_e0d55e03eb62row3_col1\" class=\"data row3 col1\" >$3.40</td>\n",
       "                        <td id=\"T_fdff8c04_5de2_11eb_a98a_e0d55e03eb62row3_col2\" class=\"data row3 col2\" >$13.62</td>\n",
       "            </tr>\n",
       "            <tr>\n",
       "                        <th id=\"T_fdff8c04_5de2_11eb_a98a_e0d55e03eb62level0_row4\" class=\"row_heading level0 row4\" >Iskadarya95</th>\n",
       "                        <td id=\"T_fdff8c04_5de2_11eb_a98a_e0d55e03eb62row4_col0\" class=\"data row4 col0\" >3</td>\n",
       "                        <td id=\"T_fdff8c04_5de2_11eb_a98a_e0d55e03eb62row4_col1\" class=\"data row4 col1\" >$4.37</td>\n",
       "                        <td id=\"T_fdff8c04_5de2_11eb_a98a_e0d55e03eb62row4_col2\" class=\"data row4 col2\" >$13.10</td>\n",
       "            </tr>\n",
       "    </tbody></table>"
      ],
      "text/plain": [
       "<pandas.io.formats.style.Styler at 0x1ca96884a90>"
      ]
     },
     "execution_count": 73,
     "metadata": {},
     "output_type": "execute_result"
    }
   ],
   "source": [
    "# group by SN\n",
    "big_spenders = purchase_data_df.groupby([\"SN\"])\n",
    "\n",
    "# Purchase Count\n",
    "big_spendersCount = big_spenders[\"Item ID\"].count()\n",
    "\n",
    "# Average Purchase Price\n",
    "big_spenders_avg = big_spenders[\"Price\"].mean()\n",
    "\n",
    "# Total Purchase Value \n",
    "big_spenders_total = big_spenders[\"Price\"].sum()\n",
    "\n",
    "# Create DataFrame\n",
    "big_spenders = pd.DataFrame({\"Purchase Count\" : big_spendersCount,\n",
    "                             \"Average Purchase Price\" : big_spenders_avg,\n",
    "                             \"Total Purchase Value\" : big_spenders_total\n",
    "                            })\n",
    "\n",
    "big_spenders = big_spenders.sort_values(['Total Purchase Value'],ascending=False)\n",
    "\n",
    "\n",
    "# Clean up style\n",
    "big_spenders.head(5).style.format({\"Average Purchase Price\" : \"${:,.2f}\",\n",
    "                         \"Total Purchase Value\" : \"${:,.2f}\",\n",
    "                         })\n",
    "\n",
    "\n",
    "         \n"
   ]
  },
  {
   "cell_type": "markdown",
   "metadata": {},
   "source": [
    "## Most Popular Items"
   ]
  },
  {
   "cell_type": "markdown",
   "metadata": {},
   "source": [
    "* Retrieve the Item ID, Item Name, and Item Price columns\n",
    "\n",
    "\n",
    "* Group by Item ID and Item Name. Perform calculations to obtain purchase count, average item price, and total purchase value\n",
    "\n",
    "\n",
    "* Create a summary data frame to hold the results\n",
    "\n",
    "\n",
    "* Sort the purchase count column in descending order\n",
    "\n",
    "\n",
    "* Optional: give the displayed data cleaner formatting\n",
    "\n",
    "\n",
    "* Display a preview of the summary data frame\n",
    "\n"
   ]
  },
  {
   "cell_type": "code",
   "execution_count": 74,
   "metadata": {},
   "outputs": [
    {
     "data": {
      "text/html": [
       "<style  type=\"text/css\" >\n",
       "</style><table id=\"T_fec78aeb_5de2_11eb_ab51_e0d55e03eb62\" ><thead>    <tr>        <th class=\"blank\" ></th>        <th class=\"blank level0\" ></th>        <th class=\"col_heading level0 col0\" >Purchase Count</th>        <th class=\"col_heading level0 col1\" >Item Price</th>        <th class=\"col_heading level0 col2\" >Total Purchase Value</th>    </tr>    <tr>        <th class=\"index_name level0\" >Item ID</th>        <th class=\"index_name level1\" >Item Name</th>        <th class=\"blank\" ></th>        <th class=\"blank\" ></th>        <th class=\"blank\" ></th>    </tr></thead><tbody>\n",
       "                <tr>\n",
       "                        <th id=\"T_fec78aeb_5de2_11eb_ab51_e0d55e03eb62level0_row0\" class=\"row_heading level0 row0\" >92</th>\n",
       "                        <th id=\"T_fec78aeb_5de2_11eb_ab51_e0d55e03eb62level1_row0\" class=\"row_heading level1 row0\" >Final Critic</th>\n",
       "                        <td id=\"T_fec78aeb_5de2_11eb_ab51_e0d55e03eb62row0_col0\" class=\"data row0 col0\" >13.00</td>\n",
       "                        <td id=\"T_fec78aeb_5de2_11eb_ab51_e0d55e03eb62row0_col1\" class=\"data row0 col1\" >$13.00</td>\n",
       "                        <td id=\"T_fec78aeb_5de2_11eb_ab51_e0d55e03eb62row0_col2\" class=\"data row0 col2\" >$59.99</td>\n",
       "            </tr>\n",
       "            <tr>\n",
       "                        <th id=\"T_fec78aeb_5de2_11eb_ab51_e0d55e03eb62level0_row1\" class=\"row_heading level0 row1\" >178</th>\n",
       "                        <th id=\"T_fec78aeb_5de2_11eb_ab51_e0d55e03eb62level1_row1\" class=\"row_heading level1 row1\" >Oathbreaker, Last Hope of the Breaking Storm</th>\n",
       "                        <td id=\"T_fec78aeb_5de2_11eb_ab51_e0d55e03eb62row1_col0\" class=\"data row1 col0\" >12.00</td>\n",
       "                        <td id=\"T_fec78aeb_5de2_11eb_ab51_e0d55e03eb62row1_col1\" class=\"data row1 col1\" >$12.00</td>\n",
       "                        <td id=\"T_fec78aeb_5de2_11eb_ab51_e0d55e03eb62row1_col2\" class=\"data row1 col2\" >$50.76</td>\n",
       "            </tr>\n",
       "            <tr>\n",
       "                        <th id=\"T_fec78aeb_5de2_11eb_ab51_e0d55e03eb62level0_row2\" class=\"row_heading level0 row2\" >145</th>\n",
       "                        <th id=\"T_fec78aeb_5de2_11eb_ab51_e0d55e03eb62level1_row2\" class=\"row_heading level1 row2\" >Fiery Glass Crusader</th>\n",
       "                        <td id=\"T_fec78aeb_5de2_11eb_ab51_e0d55e03eb62row2_col0\" class=\"data row2 col0\" >9.00</td>\n",
       "                        <td id=\"T_fec78aeb_5de2_11eb_ab51_e0d55e03eb62row2_col1\" class=\"data row2 col1\" >$9.00</td>\n",
       "                        <td id=\"T_fec78aeb_5de2_11eb_ab51_e0d55e03eb62row2_col2\" class=\"data row2 col2\" >$41.22</td>\n",
       "            </tr>\n",
       "            <tr>\n",
       "                        <th id=\"T_fec78aeb_5de2_11eb_ab51_e0d55e03eb62level0_row3\" class=\"row_heading level0 row3\" >132</th>\n",
       "                        <th id=\"T_fec78aeb_5de2_11eb_ab51_e0d55e03eb62level1_row3\" class=\"row_heading level1 row3\" >Persuasion</th>\n",
       "                        <td id=\"T_fec78aeb_5de2_11eb_ab51_e0d55e03eb62row3_col0\" class=\"data row3 col0\" >9.00</td>\n",
       "                        <td id=\"T_fec78aeb_5de2_11eb_ab51_e0d55e03eb62row3_col1\" class=\"data row3 col1\" >$9.00</td>\n",
       "                        <td id=\"T_fec78aeb_5de2_11eb_ab51_e0d55e03eb62row3_col2\" class=\"data row3 col2\" >$28.99</td>\n",
       "            </tr>\n",
       "            <tr>\n",
       "                        <th id=\"T_fec78aeb_5de2_11eb_ab51_e0d55e03eb62level0_row4\" class=\"row_heading level0 row4\" >108</th>\n",
       "                        <th id=\"T_fec78aeb_5de2_11eb_ab51_e0d55e03eb62level1_row4\" class=\"row_heading level1 row4\" >Extraction, Quickblade Of Trembling Hands</th>\n",
       "                        <td id=\"T_fec78aeb_5de2_11eb_ab51_e0d55e03eb62row4_col0\" class=\"data row4 col0\" >9.00</td>\n",
       "                        <td id=\"T_fec78aeb_5de2_11eb_ab51_e0d55e03eb62row4_col1\" class=\"data row4 col1\" >$9.00</td>\n",
       "                        <td id=\"T_fec78aeb_5de2_11eb_ab51_e0d55e03eb62row4_col2\" class=\"data row4 col2\" >$31.77</td>\n",
       "            </tr>\n",
       "    </tbody></table>"
      ],
      "text/plain": [
       "<pandas.io.formats.style.Styler at 0x1ca9572e940>"
      ]
     },
     "execution_count": 74,
     "metadata": {},
     "output_type": "execute_result"
    }
   ],
   "source": [
    "# group by Item ID\n",
    "popular_items = purchase_data_df.groupby([\"Item ID\", \"Item Name\"])\n",
    "\n",
    "# Purchase Count\n",
    "popular_item_count = popular_items[\"Item ID\"].count()\n",
    "\n",
    "# Item Price\n",
    "popular_item_price = popular_items[\"Price\"].mean()\n",
    "\n",
    "# Total purchase Values\n",
    "popular_items_total = popular_items[\"Price\"].sum()\n",
    "\n",
    "\n",
    "# Create Data Frame\n",
    "item_summary = pd.DataFrame({\"Purchase Count\" : popular_item_count,\n",
    "                             \"Item Price\" : popular_item_count,\n",
    "                             \"Total Purchase Value\" : popular_items_total\n",
    "                            })\n",
    "\n",
    "\n",
    "popular_items = item_summary.sort_values(['Purchase Count'], ascending=False)\n",
    "\n",
    "\n",
    "# Clean up style\n",
    "popular_items.head(5).style.format({ \"Purchase Count\" : \"{:,.2f}\",\n",
    "                                     \"Item Price\" : \"${:,.2f}\",\n",
    "                                     \"Total Purchase Value\" : \"${:,.2f}\"\n",
    "                                   })\n",
    "\n",
    "\n"
   ]
  },
  {
   "cell_type": "markdown",
   "metadata": {},
   "source": [
    "## Most Profitable Items"
   ]
  },
  {
   "cell_type": "markdown",
   "metadata": {},
   "source": [
    "* Sort the above table by total purchase value in descending order\n",
    "\n",
    "\n",
    "* Optional: give the displayed data cleaner formatting\n",
    "\n",
    "\n",
    "* Display a preview of the data frame\n",
    "\n"
   ]
  },
  {
   "cell_type": "code",
   "execution_count": 75,
   "metadata": {
    "scrolled": true
   },
   "outputs": [
    {
     "data": {
      "text/html": [
       "<style  type=\"text/css\" >\n",
       "</style><table id=\"T_ff9018bf_5de2_11eb_9166_e0d55e03eb62\" ><thead>    <tr>        <th class=\"blank\" ></th>        <th class=\"blank level0\" ></th>        <th class=\"col_heading level0 col0\" >Purchase Count</th>        <th class=\"col_heading level0 col1\" >Item Price</th>        <th class=\"col_heading level0 col2\" >Total Purchase Value</th>    </tr>    <tr>        <th class=\"index_name level0\" >Item ID</th>        <th class=\"index_name level1\" >Item Name</th>        <th class=\"blank\" ></th>        <th class=\"blank\" ></th>        <th class=\"blank\" ></th>    </tr></thead><tbody>\n",
       "                <tr>\n",
       "                        <th id=\"T_ff9018bf_5de2_11eb_9166_e0d55e03eb62level0_row0\" class=\"row_heading level0 row0\" >92</th>\n",
       "                        <th id=\"T_ff9018bf_5de2_11eb_9166_e0d55e03eb62level1_row0\" class=\"row_heading level1 row0\" >Final Critic</th>\n",
       "                        <td id=\"T_ff9018bf_5de2_11eb_9166_e0d55e03eb62row0_col0\" class=\"data row0 col0\" >13.00</td>\n",
       "                        <td id=\"T_ff9018bf_5de2_11eb_9166_e0d55e03eb62row0_col1\" class=\"data row0 col1\" >$13.00</td>\n",
       "                        <td id=\"T_ff9018bf_5de2_11eb_9166_e0d55e03eb62row0_col2\" class=\"data row0 col2\" >$59.99</td>\n",
       "            </tr>\n",
       "            <tr>\n",
       "                        <th id=\"T_ff9018bf_5de2_11eb_9166_e0d55e03eb62level0_row1\" class=\"row_heading level0 row1\" >178</th>\n",
       "                        <th id=\"T_ff9018bf_5de2_11eb_9166_e0d55e03eb62level1_row1\" class=\"row_heading level1 row1\" >Oathbreaker, Last Hope of the Breaking Storm</th>\n",
       "                        <td id=\"T_ff9018bf_5de2_11eb_9166_e0d55e03eb62row1_col0\" class=\"data row1 col0\" >12.00</td>\n",
       "                        <td id=\"T_ff9018bf_5de2_11eb_9166_e0d55e03eb62row1_col1\" class=\"data row1 col1\" >$12.00</td>\n",
       "                        <td id=\"T_ff9018bf_5de2_11eb_9166_e0d55e03eb62row1_col2\" class=\"data row1 col2\" >$50.76</td>\n",
       "            </tr>\n",
       "            <tr>\n",
       "                        <th id=\"T_ff9018bf_5de2_11eb_9166_e0d55e03eb62level0_row2\" class=\"row_heading level0 row2\" >82</th>\n",
       "                        <th id=\"T_ff9018bf_5de2_11eb_9166_e0d55e03eb62level1_row2\" class=\"row_heading level1 row2\" >Nirvana</th>\n",
       "                        <td id=\"T_ff9018bf_5de2_11eb_9166_e0d55e03eb62row2_col0\" class=\"data row2 col0\" >9.00</td>\n",
       "                        <td id=\"T_ff9018bf_5de2_11eb_9166_e0d55e03eb62row2_col1\" class=\"data row2 col1\" >$9.00</td>\n",
       "                        <td id=\"T_ff9018bf_5de2_11eb_9166_e0d55e03eb62row2_col2\" class=\"data row2 col2\" >$44.10</td>\n",
       "            </tr>\n",
       "            <tr>\n",
       "                        <th id=\"T_ff9018bf_5de2_11eb_9166_e0d55e03eb62level0_row3\" class=\"row_heading level0 row3\" >145</th>\n",
       "                        <th id=\"T_ff9018bf_5de2_11eb_9166_e0d55e03eb62level1_row3\" class=\"row_heading level1 row3\" >Fiery Glass Crusader</th>\n",
       "                        <td id=\"T_ff9018bf_5de2_11eb_9166_e0d55e03eb62row3_col0\" class=\"data row3 col0\" >9.00</td>\n",
       "                        <td id=\"T_ff9018bf_5de2_11eb_9166_e0d55e03eb62row3_col1\" class=\"data row3 col1\" >$9.00</td>\n",
       "                        <td id=\"T_ff9018bf_5de2_11eb_9166_e0d55e03eb62row3_col2\" class=\"data row3 col2\" >$41.22</td>\n",
       "            </tr>\n",
       "            <tr>\n",
       "                        <th id=\"T_ff9018bf_5de2_11eb_9166_e0d55e03eb62level0_row4\" class=\"row_heading level0 row4\" >103</th>\n",
       "                        <th id=\"T_ff9018bf_5de2_11eb_9166_e0d55e03eb62level1_row4\" class=\"row_heading level1 row4\" >Singed Scalpel</th>\n",
       "                        <td id=\"T_ff9018bf_5de2_11eb_9166_e0d55e03eb62row4_col0\" class=\"data row4 col0\" >8.00</td>\n",
       "                        <td id=\"T_ff9018bf_5de2_11eb_9166_e0d55e03eb62row4_col1\" class=\"data row4 col1\" >$8.00</td>\n",
       "                        <td id=\"T_ff9018bf_5de2_11eb_9166_e0d55e03eb62row4_col2\" class=\"data row4 col2\" >$34.80</td>\n",
       "            </tr>\n",
       "    </tbody></table>"
      ],
      "text/plain": [
       "<pandas.io.formats.style.Styler at 0x1ca96d4fcd0>"
      ]
     },
     "execution_count": 75,
     "metadata": {},
     "output_type": "execute_result"
    }
   ],
   "source": [
    "# Sorting by Total purchase value\n",
    "\n",
    "most_profit_items = item_summary.sort_values(['Total Purchase Value'],ascending=False, inplace=False)\n",
    "\n",
    "# clean up style\n",
    "most_profit_items.head(5).style.format({ \"Item Price\" : \"${:,.2f}\",\n",
    "                                         \"Total Purchase Value\" : \"${:,.2f}\",\n",
    "                                         \"Purchase Count\" : \"{:,.2f}\"\n",
    "                                       })\n",
    "\n",
    "\n"
   ]
  }
 ],
 "metadata": {
  "anaconda-cloud": {},
  "kernel_info": {
   "name": "python3"
  },
  "kernelspec": {
   "display_name": "Python 3",
   "language": "python",
   "name": "python3"
  },
  "language_info": {
   "codemirror_mode": {
    "name": "ipython",
    "version": 3
   },
   "file_extension": ".py",
   "mimetype": "text/x-python",
   "name": "python",
   "nbconvert_exporter": "python",
   "pygments_lexer": "ipython3",
   "version": "3.8.5"
  },
  "latex_envs": {
   "LaTeX_envs_menu_present": true,
   "autoclose": false,
   "autocomplete": true,
   "bibliofile": "biblio.bib",
   "cite_by": "apalike",
   "current_citInitial": 1,
   "eqLabelWithNumbers": true,
   "eqNumInitial": 1,
   "hotkeys": {
    "equation": "Ctrl-E",
    "itemize": "Ctrl-I"
   },
   "labels_anchors": false,
   "latex_user_defs": false,
   "report_style_numbering": false,
   "user_envs_cfg": false
  },
  "nteract": {
   "version": "0.2.0"
  }
 },
 "nbformat": 4,
 "nbformat_minor": 2
}
